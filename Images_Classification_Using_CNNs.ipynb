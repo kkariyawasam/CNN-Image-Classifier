{
  "cells": [
    {
      "cell_type": "markdown",
      "metadata": {
        "id": "KE_FkiuTP60p"
      },
      "source": [
        "# STEP #1: IMPORT LIBRARIES/DATASETS"
      ]
    },
    {
      "cell_type": "code",
      "execution_count": null,
      "metadata": {
        "id": "u8t5ZOOmP60r"
      },
      "outputs": [],
      "source": [
        "# Load Dataset\n",
        "\n",
        "import pandas as pd\n",
        "import numpy as np\n",
        "import matplotlib.pyplot as plt\n",
        "import seaborn\n",
        "from tensorflow.keras.optimizers import RMSprop\n",
        "import numpy as np"
      ]
    },
    {
      "cell_type": "code",
      "execution_count": null,
      "metadata": {
        "id": "8GgQNy7LP60s"
      },
      "outputs": [],
      "source": [
        "# Check Dataset Shapes\n",
        "\n",
        "from keras.datasets import cifar10\n",
        "(X_train, y_train) , (X_test, y_test) = cifar10.load_data()"
      ]
    },
    {
      "cell_type": "code",
      "execution_count": null,
      "metadata": {
        "id": "XLDn7C5KP60s"
      },
      "outputs": [],
      "source": [
        "X_train.shape"
      ]
    },
    {
      "cell_type": "code",
      "execution_count": null,
      "metadata": {
        "id": "RC_KOtdQP60t"
      },
      "outputs": [],
      "source": [
        "X_test.shape"
      ]
    },
    {
      "cell_type": "code",
      "execution_count": null,
      "metadata": {
        "id": "8YGD8zMiP60t"
      },
      "outputs": [],
      "source": [
        "y_train.shape"
      ]
    },
    {
      "cell_type": "code",
      "execution_count": null,
      "metadata": {
        "id": "sou_no4vP60t"
      },
      "outputs": [],
      "source": [
        "y_test.shape"
      ]
    },
    {
      "cell_type": "markdown",
      "metadata": {
        "id": "58LBjmmHP60u"
      },
      "source": [
        "# STEP #2: VISUALIZE DATA"
      ]
    },
    {
      "cell_type": "code",
      "execution_count": null,
      "metadata": {
        "id": "7OW3Ol1aP60u"
      },
      "outputs": [],
      "source": [
        "# Visualize an image from the dataset\n",
        "i = 30009\n",
        "plt.imshow(X_train[i])\n",
        "print(y_train[i])"
      ]
    },
    {
      "cell_type": "code",
      "execution_count": null,
      "metadata": {
        "id": "PIHlqcLCP60u"
      },
      "outputs": [],
      "source": [
        "# Randomly visualizing training images for a sanity check\n",
        "\n",
        "\n",
        "W_grid = 4\n",
        "L_grid = 5\n",
        "\n",
        "fig, axes = plt.subplots(L_grid, W_grid, figsize = (12, 12))\n",
        "axes = axes.ravel()\n",
        "\n",
        "n_training = len(X_train)\n",
        "\n",
        "for i in np.arange(0, L_grid * W_grid):\n",
        "    index = np.random.randint(0, n_training) # pick a random number\n",
        "    axes[i].imshow(X_train[index])\n",
        "    axes[i].set_title(y_train[index])\n",
        "    axes[i].axis('off')\n",
        "\n",
        "plt.subplots_adjust(hspace = 0.7)"
      ]
    },
    {
      "cell_type": "code",
      "execution_count": null,
      "metadata": {
        "id": "aFeT-_TaP60v"
      },
      "outputs": [],
      "source": [
        "n_training"
      ]
    },
    {
      "cell_type": "code",
      "execution_count": null,
      "metadata": {
        "id": "Tze8oGT_P60v"
      },
      "outputs": [],
      "source": []
    },
    {
      "cell_type": "markdown",
      "metadata": {
        "id": "alJ_tofSP60v"
      },
      "source": [
        "# STEP #3: DATA PREPARATION"
      ]
    },
    {
      "cell_type": "code",
      "execution_count": null,
      "metadata": {
        "id": "v4DnDEbKP60v"
      },
      "outputs": [],
      "source": [
        "# Converts the image data from integers (0–255) to floating-point numbers (float32). (Neural networks work better with float data)\n",
        "\n",
        "X_train = X_train.astype('float32')\n",
        "X_test = X_test.astype('float32')"
      ]
    },
    {
      "cell_type": "code",
      "execution_count": null,
      "metadata": {
        "id": "Tj0PvVZ-P60w"
      },
      "outputs": [],
      "source": [
        "number_cat = 10"
      ]
    },
    {
      "cell_type": "code",
      "execution_count": null,
      "metadata": {
        "id": "cDUfEfBfP60w"
      },
      "outputs": [],
      "source": [
        "y_train"
      ]
    },
    {
      "cell_type": "code",
      "execution_count": null,
      "metadata": {
        "id": "KYfG7PYjP60w"
      },
      "outputs": [],
      "source": [
        "import keras\n",
        "\n",
        "# converts class labels (integers) into one-hot encoded vectors\n",
        "y_train = keras.utils.to_categorical(y_train, number_cat)"
      ]
    },
    {
      "cell_type": "code",
      "execution_count": null,
      "metadata": {
        "id": "hXSSiEn6P60w"
      },
      "outputs": [],
      "source": [
        "y_train"
      ]
    },
    {
      "cell_type": "code",
      "execution_count": null,
      "metadata": {
        "id": "QeGe2tBdP60w"
      },
      "outputs": [],
      "source": [
        "y_test = keras.utils.to_categorical(y_test, number_cat)"
      ]
    },
    {
      "cell_type": "code",
      "execution_count": null,
      "metadata": {
        "id": "ce90VrKtP60w"
      },
      "outputs": [],
      "source": [
        "y_test"
      ]
    },
    {
      "cell_type": "code",
      "execution_count": null,
      "metadata": {
        "id": "LTvEpihJP60x"
      },
      "outputs": [],
      "source": [
        "# normalizes the image pixel values from the range [0, 255] to [0, 1]\n",
        "\n",
        "X_train = X_train/255\n",
        "X_test = X_test/255\n"
      ]
    },
    {
      "cell_type": "code",
      "execution_count": null,
      "metadata": {
        "id": "qsaEz-RJP60x"
      },
      "outputs": [],
      "source": [
        "X_train"
      ]
    },
    {
      "cell_type": "code",
      "execution_count": null,
      "metadata": {
        "id": "mU96mQ35P60x"
      },
      "outputs": [],
      "source": [
        "X_train.shape"
      ]
    },
    {
      "cell_type": "code",
      "execution_count": null,
      "metadata": {
        "id": "0Gq0NXkXP60x"
      },
      "outputs": [],
      "source": [
        "Input_shape = X_train.shape[1:]"
      ]
    },
    {
      "cell_type": "code",
      "execution_count": null,
      "metadata": {
        "id": "qeYx2jBYP60x"
      },
      "outputs": [],
      "source": [
        "Input_shape"
      ]
    },
    {
      "cell_type": "markdown",
      "metadata": {
        "id": "ugs1jyoNP60y"
      },
      "source": [
        "# STEP #4: TRAIN THE MODEL"
      ]
    },
    {
      "cell_type": "code",
      "execution_count": null,
      "metadata": {
        "id": "gjX9VSx2P60y"
      },
      "outputs": [],
      "source": [
        "from keras.models import Sequential\n",
        "from keras.layers import Conv2D, MaxPooling2D, AveragePooling2D, Dense, Flatten, Dropout\n",
        "from keras.optimizers import Adam\n",
        "from keras.callbacks import TensorBoard"
      ]
    },
    {
      "cell_type": "code",
      "execution_count": null,
      "metadata": {
        "id": "ORMqd1LwP60y"
      },
      "outputs": [],
      "source": [
        "# stack of layers\n",
        "cnn_model = Sequential()\n",
        "\n",
        "# 1st convolutional laye\n",
        "cnn_model.add(Conv2D(filters = 64, kernel_size = (3,3), activation = 'relu', input_shape = Input_shape))\n",
        "#2 nd convolutional laye\n",
        "cnn_model.add(Conv2D(filters = 64, kernel_size = (3,3), activation = 'relu'))\n",
        "\n",
        "# reduces the size of the feature map by picking the maximum value in each 2x2 block.\n",
        "cnn_model.add(MaxPooling2D(2,2))\n",
        "\n",
        "#  randomly disables a 40% portion of neurons during training\n",
        "cnn_model.add(Dropout(0.4))\n",
        "\n",
        "\n",
        "cnn_model.add(Conv2D(filters = 128, kernel_size = (3,3), activation = 'relu'))\n",
        "cnn_model.add(Conv2D(filters = 128, kernel_size = (3,3), activation = 'relu'))\n",
        "cnn_model.add(MaxPooling2D(2,2))\n",
        "cnn_model.add(Dropout(0.4))\n",
        "\n",
        "# Converts the 2D feature maps into a 1D vector to pass into the dense layers\n",
        "cnn_model.add(Flatten())\n",
        "\n",
        "cnn_model.add(Dense(units = 1024, activation = 'relu'))\n",
        "\n",
        "cnn_model.add(Dense(units = 1024, activation = 'relu'))\n",
        "\n",
        "cnn_model.add(Dense(units = 10, activation = 'softmax'))"
      ]
    },
    {
      "cell_type": "code",
      "execution_count": null,
      "metadata": {
        "id": "roAVOwmmP60y"
      },
      "outputs": [],
      "source": [
        "#  configures CNN model for training\n",
        "cnn_model.compile(loss = 'categorical_crossentropy', optimizer = RMSprop(learning_rate=0.0001), metrics = ['accuracy'])\n",
        "\n",
        "\n",
        "\n",
        " # loss='categorical_crossentropy',\n",
        " #    optimizer=RMSprop(learning_rate=0.001),\n",
        " #    metrics=['accuracy']"
      ]
    },
    {
      "cell_type": "code",
      "execution_count": null,
      "metadata": {
        "id": "GLVLYo9fP60y"
      },
      "outputs": [],
      "source": [
        "#  trains your CNN model on the training data\n",
        "history = cnn_model.fit(X_train, y_train, batch_size = 32, epochs = 10, shuffle = True)"
      ]
    },
    {
      "cell_type": "markdown",
      "metadata": {
        "id": "h7-pu-80P60y"
      },
      "source": [
        "# STEP #5: EVALUATE THE MODEL"
      ]
    },
    {
      "cell_type": "code",
      "execution_count": null,
      "metadata": {
        "id": "MCeRIIDaP60y"
      },
      "outputs": [],
      "source": [
        "evaluation = cnn_model.evaluate(X_test, y_test)\n",
        "print('Test Accuracy: {}'.format(evaluation[1]))"
      ]
    },
    {
      "cell_type": "code",
      "execution_count": null,
      "metadata": {
        "id": "iYcdKvpGP60y"
      },
      "outputs": [],
      "source": [
        "# Get class predictions by taking argmax of the predicted probabilities\n",
        "predicted_classes = np.argmax(cnn_model.predict(X_test), axis=1)"
      ]
    },
    {
      "cell_type": "code",
      "execution_count": null,
      "metadata": {
        "id": "nMbJB6WMP60z"
      },
      "outputs": [],
      "source": [
        "y_test"
      ]
    },
    {
      "cell_type": "code",
      "execution_count": null,
      "metadata": {
        "id": "xa5Ha1WSP60z"
      },
      "outputs": [],
      "source": [
        "y_test = y_test.argmax(1)"
      ]
    },
    {
      "cell_type": "code",
      "execution_count": null,
      "metadata": {
        "id": "hgcL0XJOP60z"
      },
      "outputs": [],
      "source": [
        "y_test"
      ]
    },
    {
      "cell_type": "code",
      "execution_count": null,
      "metadata": {
        "id": "v6gTdSPbP60z"
      },
      "outputs": [],
      "source": [
        "L = 7\n",
        "W = 7\n",
        "fig, axes = plt.subplots(L, W, figsize = (12, 12))\n",
        "axes = axes.ravel()\n",
        "\n",
        "for i in np.arange(0, L*W):\n",
        "    axes[i].imshow(X_test[i])\n",
        "    axes[i].set_title('Prediction = {}\\n True = {}'.format(predicted_classes[i], y_test[i]))\n",
        "    axes[i].axis('off')\n",
        "\n",
        "plt.subplots_adjust(wspace = 1)"
      ]
    },
    {
      "cell_type": "code",
      "execution_count": null,
      "metadata": {
        "id": "7NnwjUPAP60z"
      },
      "outputs": [],
      "source": [
        "from sklearn.metrics import confusion_matrix\n",
        "import seaborn as sns\n",
        "\n",
        "cm = confusion_matrix(y_test, predicted_classes)\n",
        "cm\n",
        "plt.figure(figsize = (10, 10))\n",
        "sns.heatmap(cm, annot = True)"
      ]
    },
    {
      "cell_type": "markdown",
      "metadata": {
        "id": "RSFyGU3IP60z"
      },
      "source": [
        "# STEP #6: SAVING THE MODEL"
      ]
    },
    {
      "cell_type": "code",
      "execution_count": null,
      "metadata": {
        "id": "ZtinjUqNP609"
      },
      "outputs": [],
      "source": [
        "import os\n",
        "directory = os.path.join(os.getcwd(), 'saved_models')\n",
        "\n",
        "if not os.path.isdir(directory):\n",
        "    os.makedirs(directory)\n",
        "model_path = os.path.join(directory, 'keras_cifar10_trained_model.h5')\n",
        "cnn_model.save(model_path)"
      ]
    },
    {
      "cell_type": "markdown",
      "metadata": {
        "id": "P-97rHVSP609"
      },
      "source": [
        "# STEP #7: IMPROVING THE MODEL WITH DATA AUGMENTATION"
      ]
    },
    {
      "cell_type": "markdown",
      "metadata": {
        "id": "NtnJKcSFP609"
      },
      "source": [
        "- Image Augmentation is the process of artificially increasing the variations of the images in the datasets by flipping, enlarging, rotating the original images.\n",
        "- Augmentations also include shifting and changing the brightness of the images."
      ]
    },
    {
      "cell_type": "markdown",
      "metadata": {
        "id": "39T-lsuKP60-"
      },
      "source": [
        "# STEP 7.1 DATA AUGMENTATION FOR THE CIFAR-10 DATASET"
      ]
    },
    {
      "cell_type": "code",
      "execution_count": null,
      "metadata": {
        "id": "efaur-8oP60-"
      },
      "outputs": [],
      "source": [
        "import keras\n",
        "from keras.datasets import cifar10\n",
        "(X_train, y_train), (X_test, y_test) = cifar10.load_data()"
      ]
    },
    {
      "cell_type": "code",
      "execution_count": null,
      "metadata": {
        "id": "DULTQbhgP60-"
      },
      "outputs": [],
      "source": [
        "X_train = X_train.astype('float32')\n",
        "X_test = X_test.astype('float32')"
      ]
    },
    {
      "cell_type": "code",
      "execution_count": null,
      "metadata": {
        "id": "xZWg2aQpP60-"
      },
      "outputs": [],
      "source": [
        "X_train.shape"
      ]
    },
    {
      "cell_type": "code",
      "execution_count": null,
      "metadata": {
        "id": "ndBLIrH6P60-"
      },
      "outputs": [],
      "source": [
        "n = 8\n",
        "X_train_sample = X_train[:n]"
      ]
    },
    {
      "cell_type": "code",
      "execution_count": null,
      "metadata": {
        "id": "fXglpMkBP60-"
      },
      "outputs": [],
      "source": [
        "X_train_sample.shape"
      ]
    },
    {
      "cell_type": "code",
      "execution_count": null,
      "metadata": {
        "id": "IJ_04h9XP60-"
      },
      "outputs": [],
      "source": [
        "from tensorflow.keras.preprocessing.image import ImageDataGenerator\n",
        "\n",
        "\n",
        "# dataget_train = ImageDataGenerator(rotation_range = 90)\n",
        "# dataget_train = ImageDataGenerator(vertical_flip=True)\n",
        "# dataget_train = ImageDataGenerator(height_shift_range=0.5)\n",
        "dataget_train = ImageDataGenerator(brightness_range=(1,3))\n",
        "\n",
        "\n",
        "dataget_train.fit(X_train_sample)"
      ]
    },
    {
      "cell_type": "code",
      "execution_count": null,
      "metadata": {
        "id": "5N8n8ptKP60-"
      },
      "outputs": [],
      "source": [
        "from PIL import Image\n",
        "\n",
        "\n",
        "fig = plt.figure(figsize=(20, 2))\n",
        "\n",
        "for x_batch in dataget_train.flow(X_train_sample, batch_size=n):\n",
        "    for i in range(0, n):\n",
        "        ax = fig.add_subplot(1, n, i + 1)\n",
        "\n",
        "        # Ensure the image is in the correct format (uint8)\n",
        "        img = Image.fromarray(x_batch[i].astype('uint8'))\n",
        "        ax.imshow(img)\n",
        "\n",
        "    fig.suptitle('Augmented images (rotated 90 degrees)')\n",
        "    plt.show()\n",
        "    break"
      ]
    },
    {
      "cell_type": "markdown",
      "metadata": {
        "id": "FIJKRaUeP60_"
      },
      "source": [
        "# STEP 7.2 MODEL TRAINING USING AUGEMENTED DATASET"
      ]
    },
    {
      "cell_type": "code",
      "execution_count": null,
      "metadata": {
        "id": "NQnzbIrxP60_"
      },
      "outputs": [],
      "source": [
        "from tensorflow.keras.preprocessing.image import ImageDataGenerator\n",
        "\n",
        "\n",
        "datagen = ImageDataGenerator(\n",
        "                            rotation_range = 90,\n",
        "                            width_shift_range = 0.1,\n",
        "                            horizontal_flip = True,\n",
        "                            vertical_flip = True\n",
        "                             )"
      ]
    },
    {
      "cell_type": "code",
      "execution_count": null,
      "metadata": {
        "id": "SUjxRzJgP60_"
      },
      "outputs": [],
      "source": [
        "datagen.fit(X_train)"
      ]
    },
    {
      "cell_type": "code",
      "execution_count": null,
      "metadata": {
        "id": "WPpYuLY-P60_"
      },
      "outputs": [],
      "source": [
        "from tensorflow.keras.utils import to_categorical\n",
        "\n",
        "y_train_cat = to_categorical(y_train, num_classes=10)\n",
        "\n",
        "cnn_model.fit(datagen.flow(X_train, y_train_cat, batch_size=32), epochs=2)\n"
      ]
    },
    {
      "cell_type": "code",
      "execution_count": null,
      "metadata": {
        "id": "eahKa-ylP60_"
      },
      "outputs": [],
      "source": [
        "from keras.utils import to_categorical\n",
        "from keras.datasets import cifar10\n",
        "\n",
        "# Load CIFAR-10 test set\n",
        "(_, _), (X_test, y_test) = cifar10.load_data()\n",
        "\n",
        "# Flatten and one-hot encode labels\n",
        "y_test = y_test.flatten()\n",
        "y_test = to_categorical(y_test, num_classes=10)\n",
        "\n",
        "# Evaluate the model\n",
        "score = cnn_model.evaluate(X_test, y_test)\n",
        "print('Test accuracy:', score[1])\n"
      ]
    },
    {
      "cell_type": "code",
      "execution_count": null,
      "metadata": {
        "id": "Lw107VD4P60_"
      },
      "outputs": [],
      "source": [
        "# save the model\n",
        "directory = os.path.join(os.getcwd(), 'saved_models')\n",
        "\n",
        "if not os.path.isdir(directory):\n",
        "    os.makedirs(directory)\n",
        "model_path = os.path.join(directory, 'keras_cifar10_trained_model_Augmentation.h5')\n",
        "cnn_model.save(model_path)"
      ]
    },
    {
      "cell_type": "markdown",
      "metadata": {
        "id": "nt5292_BP60_"
      },
      "source": [
        "# GREAT JOB!"
      ]
    }
  ],
  "metadata": {
    "colab": {
      "provenance": []
    },
    "kernelspec": {
      "display_name": "Python 3 (ipykernel)",
      "language": "python",
      "name": "python3"
    },
    "language_info": {
      "codemirror_mode": {
        "name": "ipython",
        "version": 3
      },
      "file_extension": ".py",
      "mimetype": "text/x-python",
      "name": "python",
      "nbconvert_exporter": "python",
      "pygments_lexer": "ipython3",
      "version": "3.11.7"
    }
  },
  "nbformat": 4,
  "nbformat_minor": 0
}